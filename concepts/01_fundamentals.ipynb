{
 "cells": [
  {
   "cell_type": "markdown",
   "id": "a8c35490",
   "metadata": {},
   "source": [
    "## 1. Python Output"
   ]
  },
  {
   "cell_type": "code",
   "execution_count": 1,
   "id": "d6e72ddc",
   "metadata": {},
   "outputs": [
    {
     "name": "stdout",
     "output_type": "stream",
     "text": [
      "Hello world\n"
     ]
    }
   ],
   "source": [
    "# python is a case sensitive language\n",
    "print('Hello world')"
   ]
  },
  {
   "cell_type": "code",
   "execution_count": 2,
   "id": "26530503",
   "metadata": {},
   "outputs": [
    {
     "name": "stdout",
     "output_type": "stream",
     "text": [
      "salman khan\n"
     ]
    }
   ],
   "source": [
    "print('salman khan')"
   ]
  },
  {
   "cell_type": "code",
   "execution_count": 3,
   "id": "b012a99f",
   "metadata": {},
   "outputs": [
    {
     "ename": "SyntaxError",
     "evalue": "invalid syntax. Perhaps you forgot a comma? (1115953987.py, line 1)",
     "output_type": "error",
     "traceback": [
      "\u001b[1;36m  Cell \u001b[1;32mIn[3], line 1\u001b[1;36m\u001b[0m\n\u001b[1;33m    print(salman khan)\u001b[0m\n\u001b[1;37m          ^\u001b[0m\n\u001b[1;31mSyntaxError\u001b[0m\u001b[1;31m:\u001b[0m invalid syntax. Perhaps you forgot a comma?\n"
     ]
    }
   ],
   "source": [
    "print(salman khan)"
   ]
  },
  {
   "cell_type": "code",
   "execution_count": 4,
   "id": "e0e34138",
   "metadata": {},
   "outputs": [
    {
     "name": "stdout",
     "output_type": "stream",
     "text": [
      "7\n"
     ]
    }
   ],
   "source": [
    "print(7)"
   ]
  },
  {
   "cell_type": "code",
   "execution_count": 5,
   "id": "fac2b623",
   "metadata": {},
   "outputs": [
    {
     "name": "stdout",
     "output_type": "stream",
     "text": [
      "6.6\n"
     ]
    }
   ],
   "source": [
    "print(6.6)"
   ]
  },
  {
   "cell_type": "code",
   "execution_count": 6,
   "id": "f59d813d",
   "metadata": {},
   "outputs": [
    {
     "name": "stdout",
     "output_type": "stream",
     "text": [
      "True\n"
     ]
    }
   ],
   "source": [
    "print(True)"
   ]
  },
  {
   "cell_type": "code",
   "execution_count": 7,
   "id": "165f3d87",
   "metadata": {},
   "outputs": [
    {
     "name": "stdout",
     "output_type": "stream",
     "text": [
      "Hello 1 4.5 False\n"
     ]
    }
   ],
   "source": [
    "print('Hello', 1, 4.5, False)"
   ]
  },
  {
   "cell_type": "code",
   "execution_count": 8,
   "id": "906157c8",
   "metadata": {},
   "outputs": [
    {
     "name": "stdout",
     "output_type": "stream",
     "text": [
      "Hello/1/4.5/False\n"
     ]
    }
   ],
   "source": [
    "print('Hello', 1, 4.5, False, sep='/')"
   ]
  },
  {
   "cell_type": "code",
   "execution_count": 9,
   "id": "dce9bfdc",
   "metadata": {},
   "outputs": [
    {
     "name": "stdout",
     "output_type": "stream",
     "text": [
      "hello\n",
      "world\n"
     ]
    }
   ],
   "source": [
    "print('hello')\n",
    "print('world')"
   ]
  },
  {
   "cell_type": "code",
   "execution_count": 10,
   "id": "401e0709",
   "metadata": {},
   "outputs": [
    {
     "name": "stdout",
     "output_type": "stream",
     "text": [
      "hello-world\n"
     ]
    }
   ],
   "source": [
    "print('hello', end='-')\n",
    "print('world')"
   ]
  },
  {
   "cell_type": "markdown",
   "id": "a7276c2f",
   "metadata": {},
   "source": [
    "## 2. Data Types"
   ]
  },
  {
   "cell_type": "code",
   "execution_count": 11,
   "id": "c0fc434f",
   "metadata": {},
   "outputs": [
    {
     "name": "stdout",
     "output_type": "stream",
     "text": [
      "8\n",
      "inf\n",
      "1e+308\n"
     ]
    }
   ],
   "source": [
    "# integer\n",
    "print(8)\n",
    "\n",
    "# 1 * 10^309\n",
    "print(1e309)\n",
    "\n",
    "# 1 * 10^308\n",
    "print(1e308)"
   ]
  },
  {
   "cell_type": "code",
   "execution_count": 12,
   "id": "f63ef4f5",
   "metadata": {},
   "outputs": [
    {
     "name": "stdout",
     "output_type": "stream",
     "text": [
      "8.55\n"
     ]
    }
   ],
   "source": [
    "# decimal float\n",
    "print(8.55)"
   ]
  },
  {
   "cell_type": "code",
   "execution_count": 13,
   "id": "71a52f49",
   "metadata": {},
   "outputs": [
    {
     "name": "stdout",
     "output_type": "stream",
     "text": [
      "True\n",
      "False\n"
     ]
    }
   ],
   "source": [
    "# boolean\n",
    "print(True)\n",
    "print(False)"
   ]
  },
  {
   "cell_type": "code",
   "execution_count": 14,
   "id": "33f5c4e9",
   "metadata": {},
   "outputs": [
    {
     "name": "stdout",
     "output_type": "stream",
     "text": [
      "hello world\n"
     ]
    }
   ],
   "source": [
    "# text/string\n",
    "print('hello world')"
   ]
  },
  {
   "cell_type": "code",
   "execution_count": 15,
   "id": "74ae2a46",
   "metadata": {},
   "outputs": [
    {
     "name": "stdout",
     "output_type": "stream",
     "text": [
      "(5+6j)\n"
     ]
    }
   ],
   "source": [
    "# complex number\n",
    "print(5 + 6j)"
   ]
  },
  {
   "cell_type": "code",
   "execution_count": 16,
   "id": "883c6a6a",
   "metadata": {},
   "outputs": [
    {
     "name": "stdout",
     "output_type": "stream",
     "text": [
      "[1, 2, 3, 4, 5]\n"
     ]
    }
   ],
   "source": [
    "# List\n",
    "print([1, 2, 3, 4, 5])"
   ]
  },
  {
   "cell_type": "code",
   "execution_count": 17,
   "id": "17d6dfb1",
   "metadata": {},
   "outputs": [
    {
     "name": "stdout",
     "output_type": "stream",
     "text": [
      "(1, 2, 3, 4, 5)\n"
     ]
    }
   ],
   "source": [
    "# Tuple\n",
    "print((1, 2, 3, 4, 5))"
   ]
  },
  {
   "cell_type": "code",
   "execution_count": 18,
   "id": "3190dc9f",
   "metadata": {},
   "outputs": [
    {
     "name": "stdout",
     "output_type": "stream",
     "text": [
      "{1, 2, 3, 4, 5}\n"
     ]
    }
   ],
   "source": [
    "# set\n",
    "print({1, 2, 3, 4, 5})"
   ]
  },
  {
   "cell_type": "code",
   "execution_count": 19,
   "id": "4152d091",
   "metadata": {},
   "outputs": [
    {
     "name": "stdout",
     "output_type": "stream",
     "text": [
      "{'name': 'nitish', 'gender': 'male', 'weight': 70}\n"
     ]
    }
   ],
   "source": [
    "# dictionary\n",
    "print({'name': 'nitish', 'gender': 'male', 'weight': 70})"
   ]
  },
  {
   "cell_type": "code",
   "execution_count": 20,
   "id": "a4093288",
   "metadata": {},
   "outputs": [
    {
     "data": {
      "text/plain": [
       "int"
      ]
     },
     "execution_count": 20,
     "metadata": {},
     "output_type": "execute_result"
    }
   ],
   "source": [
    "# type \n",
    "type(3)"
   ]
  },
  {
   "cell_type": "code",
   "execution_count": 21,
   "id": "2aa938c4",
   "metadata": {},
   "outputs": [
    {
     "data": {
      "text/plain": [
       "float"
      ]
     },
     "execution_count": 21,
     "metadata": {},
     "output_type": "execute_result"
    }
   ],
   "source": [
    "type(3.5)"
   ]
  },
  {
   "cell_type": "code",
   "execution_count": 22,
   "id": "3980257a",
   "metadata": {},
   "outputs": [
    {
     "data": {
      "text/plain": [
       "str"
      ]
     },
     "execution_count": 22,
     "metadata": {},
     "output_type": "execute_result"
    }
   ],
   "source": [
    "type('hello')"
   ]
  },
  {
   "cell_type": "code",
   "execution_count": 23,
   "id": "055c18b2",
   "metadata": {},
   "outputs": [
    {
     "data": {
      "text/plain": [
       "bool"
      ]
     },
     "execution_count": 23,
     "metadata": {},
     "output_type": "execute_result"
    }
   ],
   "source": [
    "type(True)"
   ]
  },
  {
   "cell_type": "code",
   "execution_count": 24,
   "id": "c2525239",
   "metadata": {},
   "outputs": [
    {
     "data": {
      "text/plain": [
       "list"
      ]
     },
     "execution_count": 24,
     "metadata": {},
     "output_type": "execute_result"
    }
   ],
   "source": [
    "type([1, 2, 3, 4, 5])"
   ]
  },
  {
   "cell_type": "markdown",
   "id": "c2a1b188",
   "metadata": {},
   "source": [
    "## 3. Variables"
   ]
  },
  {
   "cell_type": "code",
   "execution_count": 25,
   "id": "e3d2ad97",
   "metadata": {},
   "outputs": [
    {
     "name": "stdout",
     "output_type": "stream",
     "text": [
      "nitish\n"
     ]
    }
   ],
   "source": [
    "name = 'nitish'\n",
    "print(name)"
   ]
  },
  {
   "cell_type": "code",
   "execution_count": 26,
   "id": "81aa2d1f",
   "metadata": {},
   "outputs": [
    {
     "name": "stdout",
     "output_type": "stream",
     "text": [
      "11\n"
     ]
    }
   ],
   "source": [
    "a = 5\n",
    "b = 6\n",
    "\n",
    "print(a + b)"
   ]
  },
  {
   "cell_type": "code",
   "execution_count": 27,
   "id": "02432685",
   "metadata": {},
   "outputs": [
    {
     "name": "stdout",
     "output_type": "stream",
     "text": [
      "5\n"
     ]
    }
   ],
   "source": [
    "# dynamic typing\n",
    "\n",
    "# in c/c++ -> static typing [data type has to be mentioned and variables has to be declared]\n",
    "# int a;\n",
    "# a = 5;\n",
    "# or \n",
    "# int a = 5; \n",
    "\n",
    "# in python\n",
    "a = 5\n",
    "print(a)\n"
   ]
  },
  {
   "cell_type": "code",
   "execution_count": 28,
   "id": "a47b9596",
   "metadata": {},
   "outputs": [
    {
     "name": "stdout",
     "output_type": "stream",
     "text": [
      "5\n",
      "<class 'int'>\n",
      "nitish\n",
      "<class 'str'>\n"
     ]
    }
   ],
   "source": [
    "# dynamic binding -> it can change datatype of the same variable\n",
    "a = 5\n",
    "print(a)\n",
    "print(type(a))\n",
    "\n",
    "a = 'nitish'\n",
    "print(a)\n",
    "print(type(a))\n",
    "\n",
    "# in static binding, if variable is declared call as integer, then it cant change its datatype at all it has to be integer"
   ]
  },
  {
   "cell_type": "code",
   "execution_count": 29,
   "id": "4ce29699",
   "metadata": {},
   "outputs": [
    {
     "name": "stdout",
     "output_type": "stream",
     "text": [
      "1 2 3\n"
     ]
    }
   ],
   "source": [
    "a = 1\n",
    "b = 2\n",
    "c = 3\n",
    "print(a, b, c)"
   ]
  },
  {
   "cell_type": "code",
   "execution_count": 30,
   "id": "6b43dafc",
   "metadata": {},
   "outputs": [
    {
     "name": "stdout",
     "output_type": "stream",
     "text": [
      "1 2 3\n"
     ]
    }
   ],
   "source": [
    "a, b, c = 1, 2, 3\n",
    "print(a, b, c)"
   ]
  },
  {
   "cell_type": "code",
   "execution_count": 31,
   "id": "7954c863",
   "metadata": {},
   "outputs": [
    {
     "name": "stdout",
     "output_type": "stream",
     "text": [
      "5 5 5\n"
     ]
    }
   ],
   "source": [
    "a = b = c = 5\n",
    "print(a, b, c)"
   ]
  },
  {
   "cell_type": "markdown",
   "id": "6fefb18a",
   "metadata": {},
   "source": [
    "## Keywords and Identifiers"
   ]
  },
  {
   "cell_type": "code",
   "execution_count": 32,
   "id": "aa972211",
   "metadata": {},
   "outputs": [
    {
     "name": "stdout",
     "output_type": "stream",
     "text": [
      "['False', 'None', 'True', 'and', 'as', 'assert', 'async', 'await', 'break', 'class', 'continue', 'def', 'del', 'elif', 'else', 'except', 'finally', 'for', 'from', 'global', 'if', 'import', 'in', 'is', 'lambda', 'nonlocal', 'not', 'or', 'pass', 'raise', 'return', 'try', 'while', 'with', 'yield']\n"
     ]
    }
   ],
   "source": [
    "# Keywords are reserved words in Python that have a predefined meaning and cannot be used as identifiers (variable names, function names, etc.). They are part of Python’s syntax.\n",
    "# Keywords are case-sensitive — True is a keyword, but true is just a normal identifier.\n",
    "import keyword\n",
    "print(keyword.kwlist)"
   ]
  },
  {
   "cell_type": "code",
   "execution_count": 33,
   "id": "db3aa43b",
   "metadata": {},
   "outputs": [],
   "source": [
    "# Identifiers: Identifiers are the names you give to variables, functions, classes, modules, etc.\n",
    "x = 5 # x is an identifier"
   ]
  },
  {
   "cell_type": "code",
   "execution_count": 34,
   "id": "60273fa1",
   "metadata": {},
   "outputs": [],
   "source": [
    "# Rules for naming conventions\n",
    "\n",
    "# Can contain letters (a-z, A-Z), digits (0-9), and underscores (_).\n",
    "\n",
    "# Must start with a letter or underscore, not a digit.\n",
    "# name1 (valid)\n",
    "# _hidden_value (valid)\n",
    "# 1variable (invalid)\n",
    "\n",
    "# Cannot be a keyword.\n",
    "\n",
    "# Can be of any length.\n",
    "\n",
    "# Case-sensitive:\n",
    "# For e.g. Name and name are different identifiers."
   ]
  },
  {
   "cell_type": "markdown",
   "id": "1c61ff58",
   "metadata": {},
   "source": [
    "## 5. User Input"
   ]
  },
  {
   "cell_type": "code",
   "execution_count": 35,
   "id": "14c78b85",
   "metadata": {},
   "outputs": [
    {
     "data": {
      "text/plain": [
       "''"
      ]
     },
     "execution_count": 35,
     "metadata": {},
     "output_type": "execute_result"
    }
   ],
   "source": [
    "input('Enter Email') # notice the input given is stored in form of strings"
   ]
  },
  {
   "cell_type": "code",
   "execution_count": 36,
   "id": "4ea9d504",
   "metadata": {},
   "outputs": [
    {
     "name": "stdout",
     "output_type": "stream",
     "text": [
      "Num1 =  ;Num2 = \n",
      "\n"
     ]
    }
   ],
   "source": [
    "# take two numbers from users and add the two numbers \n",
    "num1 = input('Enter first number:')\n",
    "num2 = input('Enter second number:')\n",
    "print(\"Num1 =\", num1, \";Num2 =\", num2)\n",
    "print(num1 + num2)"
   ]
  },
  {
   "cell_type": "code",
   "execution_count": 37,
   "id": "e39d251e",
   "metadata": {},
   "outputs": [
    {
     "ename": "ValueError",
     "evalue": "invalid literal for int() with base 10: ''",
     "output_type": "error",
     "traceback": [
      "\u001b[1;31m---------------------------------------------------------------------------\u001b[0m",
      "\u001b[1;31mValueError\u001b[0m                                Traceback (most recent call last)",
      "Cell \u001b[1;32mIn[37], line 3\u001b[0m\n\u001b[0;32m      1\u001b[0m \u001b[38;5;66;03m# take two numbers from users and add the two numbers -> we need to typecast i.e. changing string variable to integer variable \u001b[39;00m\n\u001b[0;32m      2\u001b[0m \u001b[38;5;66;03m# that is why we got 45 as an output and not 9\u001b[39;00m\n\u001b[1;32m----> 3\u001b[0m num1 \u001b[38;5;241m=\u001b[39m \u001b[38;5;28mint\u001b[39m(\u001b[38;5;28minput\u001b[39m(\u001b[38;5;124m'\u001b[39m\u001b[38;5;124mEnter first number:\u001b[39m\u001b[38;5;124m'\u001b[39m))\n\u001b[0;32m      4\u001b[0m num2 \u001b[38;5;241m=\u001b[39m \u001b[38;5;28mint\u001b[39m(\u001b[38;5;28minput\u001b[39m(\u001b[38;5;124m'\u001b[39m\u001b[38;5;124mEnter second number:\u001b[39m\u001b[38;5;124m'\u001b[39m))\n\u001b[0;32m      5\u001b[0m \u001b[38;5;28mprint\u001b[39m(\u001b[38;5;124m\"\u001b[39m\u001b[38;5;124mNum1 =\u001b[39m\u001b[38;5;124m\"\u001b[39m, num1, \u001b[38;5;124m\"\u001b[39m\u001b[38;5;124m;Num2 =\u001b[39m\u001b[38;5;124m\"\u001b[39m, num2)\n",
      "\u001b[1;31mValueError\u001b[0m: invalid literal for int() with base 10: ''"
     ]
    }
   ],
   "source": [
    "# take two numbers from users and add the two numbers -> we need to typecast i.e. changing string variable to integer variable \n",
    "# that is why we got 45 as an output and not 9\n",
    "num1 = int(input('Enter first number:'))\n",
    "num2 = int(input('Enter second number:'))\n",
    "print(\"Num1 =\", num1, \";Num2 =\", num2)\n",
    "print(num1 + num2)"
   ]
  },
  {
   "cell_type": "markdown",
   "id": "e5ad362d",
   "metadata": {},
   "source": [
    "## 6. Type Conversion"
   ]
  },
  {
   "cell_type": "code",
   "execution_count": 38,
   "id": "c5ebbdf9",
   "metadata": {},
   "outputs": [
    {
     "name": "stdout",
     "output_type": "stream",
     "text": [
      "10.6\n",
      "<class 'int'> <class 'float'>\n"
     ]
    }
   ],
   "source": [
    "# implicit type conversion -> python itself changes the datatype\n",
    "print(5 + 5.6)\n",
    "print(type(5), type(5.6)) # since we are adding integer to float, python gives result in float"
   ]
  },
  {
   "cell_type": "code",
   "execution_count": 39,
   "id": "f7f58fe9",
   "metadata": {},
   "outputs": [
    {
     "ename": "TypeError",
     "evalue": "unsupported operand type(s) for +: 'int' and 'str'",
     "output_type": "error",
     "traceback": [
      "\u001b[1;31m---------------------------------------------------------------------------\u001b[0m",
      "\u001b[1;31mTypeError\u001b[0m                                 Traceback (most recent call last)",
      "Cell \u001b[1;32mIn[39], line 1\u001b[0m\n\u001b[1;32m----> 1\u001b[0m \u001b[38;5;28mprint\u001b[39m(\u001b[38;5;241m4\u001b[39m \u001b[38;5;241m+\u001b[39m \u001b[38;5;124m'\u001b[39m\u001b[38;5;124m4\u001b[39m\u001b[38;5;124m'\u001b[39m)\n",
      "\u001b[1;31mTypeError\u001b[0m: unsupported operand type(s) for +: 'int' and 'str'"
     ]
    }
   ],
   "source": [
    "print(4 + '4')"
   ]
  },
  {
   "cell_type": "code",
   "execution_count": 40,
   "id": "5628c4a3",
   "metadata": {},
   "outputs": [
    {
     "name": "stdout",
     "output_type": "stream",
     "text": [
      "<class 'int'>\n",
      "<class 'int'>\n",
      "4.0\n"
     ]
    }
   ],
   "source": [
    "# explicit type conversion -> user has to give type\n",
    "# str -> int\n",
    "print(type(int('4')))\n",
    "\n",
    "# float -> int\n",
    "print(type(int(4.5)))\n",
    "\n",
    "# int -> float\n",
    "print(float(4))\n",
    "\n",
    "# similarly we can do for other types using set(), dict(), list(), int(), float(), complex(), bool(), tuple()"
   ]
  },
  {
   "cell_type": "markdown",
   "id": "9c6a269b",
   "metadata": {},
   "source": [
    "## 7. Literals"
   ]
  },
  {
   "cell_type": "code",
   "execution_count": 41,
   "id": "c7a3095b",
   "metadata": {},
   "outputs": [
    {
     "name": "stdout",
     "output_type": "stream",
     "text": [
      "10 100 200 300\n",
      "10.5 150.0 0.0015\n",
      "3.14j 3.14 0.0\n"
     ]
    }
   ],
   "source": [
    "a = 0b1010 #Binary Literals\n",
    "b = 100 #Decimal Literal \n",
    "c = 0o310 #Octal Literal\n",
    "d = 0x12c #Hexadecimal Literal\n",
    "\n",
    "#Float Literal\n",
    "float_1 = 10.5 \n",
    "float_2 = 1.5e2 # 1.5 * 10^2\n",
    "float_3 = 1.5e-3 # 1.5 * 10^-3\n",
    "\n",
    "#Complex Literal \n",
    "x = 3.14j\n",
    "\n",
    "print(a, b, c, d)\n",
    "print(float_1, float_2,float_3)\n",
    "print(x, x.imag, x.real)"
   ]
  },
  {
   "cell_type": "code",
   "execution_count": 42,
   "id": "1f09fb56",
   "metadata": {},
   "outputs": [
    {
     "name": "stdout",
     "output_type": "stream",
     "text": [
      "3.14\n"
     ]
    }
   ],
   "source": [
    "# binary\n",
    "x = 3.14j\n",
    "print(x.imag)"
   ]
  },
  {
   "cell_type": "code",
   "execution_count": 43,
   "id": "74633e6c",
   "metadata": {},
   "outputs": [
    {
     "name": "stdout",
     "output_type": "stream",
     "text": [
      "This is Python\n",
      "This is Python\n",
      "C\n",
      "This is a multiline string with more than one line code.\n",
      "😀😆🤣\n",
      "raw \\n string\n"
     ]
    }
   ],
   "source": [
    "string = 'This is Python'\n",
    "strings = \"This is Python\"\n",
    "char = \"C\"\n",
    "multiline_str = \"\"\"This is a multiline string with more than one line code.\"\"\"\n",
    "unicode = u\"\\U0001f600\\U0001F606\\U0001F923\"\n",
    "raw_str = r\"raw \\n string\"\n",
    "\n",
    "print(string)\n",
    "print(strings)\n",
    "print(char)\n",
    "print(multiline_str)\n",
    "print(unicode)\n",
    "print(raw_str)"
   ]
  },
  {
   "cell_type": "code",
   "execution_count": 44,
   "id": "abdc4b62",
   "metadata": {},
   "outputs": [
    {
     "name": "stdout",
     "output_type": "stream",
     "text": [
      "a: 5\n",
      "b: 10\n"
     ]
    }
   ],
   "source": [
    "a = True + 4\n",
    "b = False + 10\n",
    "\n",
    "print(\"a:\", a)\n",
    "print(\"b:\", b)"
   ]
  },
  {
   "cell_type": "code",
   "execution_count": null,
   "id": "bba0715c",
   "metadata": {},
   "outputs": [
    {
     "ename": "NameError",
     "evalue": "name 'k' is not defined",
     "output_type": "error",
     "traceback": [
      "\u001b[1;31m---------------------------------------------------------------------------\u001b[0m",
      "\u001b[1;31mNameError\u001b[0m                                 Traceback (most recent call last)",
      "Cell \u001b[1;32mIn[45], line 1\u001b[0m\n\u001b[1;32m----> 1\u001b[0m k\n\u001b[0;32m      2\u001b[0m \u001b[38;5;28mprint\u001b[39m(k)\n\u001b[0;32m      4\u001b[0m a \u001b[38;5;241m=\u001b[39m \u001b[38;5;241m5\u001b[39m\n",
      "\u001b[1;31mNameError\u001b[0m: name 'k' is not defined"
     ]
    }
   ],
   "source": [
    "k # trying to define variable without value \n",
    "print(k)\n",
    "\n",
    "a = 5\n",
    "b = 6\n",
    "\n",
    "k = a + b\n",
    "print(k)"
   ]
  },
  {
   "cell_type": "code",
   "execution_count": null,
   "id": "4e599cf1",
   "metadata": {},
   "outputs": [
    {
     "name": "stdout",
     "output_type": "stream",
     "text": [
      "None\n",
      "11\n"
     ]
    }
   ],
   "source": [
    "k = None # we cant define variable without any value but since we dont know what value needs to be put so we try to put None as value which can changed later\n",
    "print(k)\n",
    "\n",
    "a = 5\n",
    "b = 6\n",
    "\n",
    "k = a + b\n",
    "print(k)"
   ]
  }
 ],
 "metadata": {
  "kernelspec": {
   "display_name": "base",
   "language": "python",
   "name": "python3"
  },
  "language_info": {
   "codemirror_mode": {
    "name": "ipython",
    "version": 3
   },
   "file_extension": ".py",
   "mimetype": "text/x-python",
   "name": "python",
   "nbconvert_exporter": "python",
   "pygments_lexer": "ipython3",
   "version": "3.13.5"
  }
 },
 "nbformat": 4,
 "nbformat_minor": 5
}
