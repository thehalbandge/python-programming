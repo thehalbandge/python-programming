{
 "cells": [
  {
   "cell_type": "markdown",
   "id": "95b1f4b4",
   "metadata": {},
   "source": [
    "## Operators in Python\n",
    "\n",
    "- Arithmetic Operators\n",
    "- Relational Operators\n",
    "- Logical Operators\n",
    "- Assignment Operators\n",
    "- Membership Operators"
   ]
  },
  {
   "cell_type": "code",
   "execution_count": 3,
   "id": "a9191c20",
   "metadata": {},
   "outputs": [
    {
     "name": "stdout",
     "output_type": "stream",
     "text": [
      "11\n",
      "-1\n",
      "30\n",
      "2.5\n",
      "2\n",
      "1\n",
      "25\n"
     ]
    }
   ],
   "source": [
    "# Arithmetic Operators\n",
    "print(5 + 6)\n",
    "print(5 - 6)\n",
    "print(5 * 6)\n",
    "print(5 / 2)\n",
    "print(5 // 2) # integer division \n",
    "print(5 % 2) # gives remainder\n",
    "print(5 ** 2) # is in the form of a ** b i.e. a^b "
   ]
  },
  {
   "cell_type": "code",
   "execution_count": 4,
   "id": "9b5ceb5e",
   "metadata": {},
   "outputs": [
    {
     "name": "stdout",
     "output_type": "stream",
     "text": [
      "False\n",
      "True\n",
      "True\n",
      "True\n",
      "True\n",
      "False\n"
     ]
    }
   ],
   "source": [
    "# Relational Operators\n",
    "print(4 > 5)\n",
    "print(4 < 5)\n",
    "print(4 >= 4)\n",
    "print(4 <= 4)\n",
    "print(4 == 4)\n",
    "print(4 != 4)"
   ]
  },
  {
   "cell_type": "code",
   "execution_count": null,
   "id": "f4a573e6",
   "metadata": {},
   "outputs": [
    {
     "name": "stdout",
     "output_type": "stream",
     "text": [
      "Logical AND\n",
      "0\n",
      "1\n",
      "0\n",
      "0\n",
      "Logical OR\n",
      "1\n",
      "1\n",
      "0\n",
      "0\n",
      "Logical NOT\n",
      "False\n",
      "True\n"
     ]
    }
   ],
   "source": [
    "# Logical Operators\n",
    "\n",
    "# Logical AND - If both operands are 1 then result is 1 else 0\n",
    "print(\"Logical AND\")\n",
    "print(1 and 0)\n",
    "print(1 and 1) # 1\n",
    "print(0 and 0) \n",
    "print(0 and 0)\n",
    "\n",
    "# Logical OR - If both operands are 0 result is 0 else 1\n",
    "print(\"Logical OR\")\n",
    "print(1 or 0)\n",
    "print(1 or 1) \n",
    "print(0 or 0) \n",
    "print(0 or 0) # 0\n",
    "\n",
    "# Logical NOT\n",
    "print(\"Logical NOT\")\n",
    "print(not 1) # False\n",
    "print(not 0) # True"
   ]
  },
  {
   "cell_type": "code",
   "execution_count": 14,
   "id": "3536ee07",
   "metadata": {},
   "outputs": [
    {
     "name": "stdout",
     "output_type": "stream",
     "text": [
      "2\n",
      "4\n"
     ]
    }
   ],
   "source": [
    "# Assignment Operators\n",
    "\n",
    "a = 2\n",
    "print(a)\n",
    "\n",
    "a += 2 # a = a + 2\n",
    "print(a)\n",
    "\n",
    "# can be used as -=, *=, /=, %= "
   ]
  },
  {
   "cell_type": "code",
   "execution_count": 16,
   "id": "1a25f596",
   "metadata": {},
   "outputs": [
    {
     "name": "stdout",
     "output_type": "stream",
     "text": [
      "False\n",
      "True\n",
      "True\n",
      "False\n"
     ]
    }
   ],
   "source": [
    "# Membership Operators\n",
    "\n",
    "# in/ not in\n",
    "\n",
    "print('d' in 'Delhi')\n",
    "print('D' in 'Delhi')\n",
    "\n",
    "\n",
    "print('d' not in 'Delhi')\n",
    "print('D' not in 'Delhi')"
   ]
  },
  {
   "cell_type": "markdown",
   "id": "235cc380",
   "metadata": {},
   "source": [
    "## If-else"
   ]
  },
  {
   "cell_type": "code",
   "execution_count": 20,
   "id": "4acb973b",
   "metadata": {},
   "outputs": [
    {
     "name": "stdout",
     "output_type": "stream",
     "text": [
      "Email: nitish.campusx@gmail.com\n",
      "Password: 3214\n",
      "You have entered an incorrect password. Try to login again!\n"
     ]
    }
   ],
   "source": [
    "# login program and identation\n",
    "# email -> nitish.campusx@gmail.com\n",
    "# password -> 1234\n",
    "\n",
    "user_name = input(\"Enter your email id:\")\n",
    "print(\"Email:\", user_name)\n",
    "\n",
    "if user_name == 'nitish.campusx@gmail.com':\n",
    "    pass_word = input(\"Enter your password:\")\n",
    "    print(\"Password:\", pass_word)\n",
    "    if pass_word == '1234':\n",
    "        print(\"You have been successfully logged in!\")\n",
    "    else:\n",
    "        print(\"You have entered an incorrect password. Try to login again!\")\n",
    "else:\n",
    "    print(\"You have entered incorrect email id. Please try again!\")"
   ]
  },
  {
   "cell_type": "code",
   "execution_count": 23,
   "id": "2a1d3d62",
   "metadata": {},
   "outputs": [
    {
     "name": "stdout",
     "output_type": "stream",
     "text": [
      "Email: nitish.campusx@gmail.com\n",
      "Password: 1324\n",
      "You have entered an incorrect password. Try enterting password again!\n",
      "Re-entered Password: 1234\n",
      "You have been successfully logged in!\n"
     ]
    }
   ],
   "source": [
    "user_name = input(\"Enter your email id:\")\n",
    "print(\"Email:\", user_name)\n",
    "\n",
    "if user_name == 'nitish.campusx@gmail.com':\n",
    "    pass_word = input(\"Enter your password:\")\n",
    "    print(\"Password:\", pass_word)\n",
    "    if pass_word == '1234':\n",
    "        print(\"You have been successfully logged in!\")\n",
    "    else:\n",
    "        print(\"You have entered an incorrect password. Try enterting password again!\")\n",
    "        pass_word = input(\"Enter your password:\")\n",
    "        print(\"Re-entered Password:\", pass_word)\n",
    "        if pass_word == '1234':\n",
    "            print(\"You have been successfully logged in!\")\n",
    "        else:\n",
    "            print(\"Wrong password again! Try entering email and password again.\")\n",
    "else:\n",
    "    print(\"You have entered incorrect email id. Please try again!\")"
   ]
  },
  {
   "cell_type": "markdown",
   "id": "3dfc35bc",
   "metadata": {},
   "source": [
    "## Modules\n",
    "\n",
    "- math\n",
    "- keywords\n",
    "- random\n",
    "- datetime"
   ]
  },
  {
   "cell_type": "code",
   "execution_count": 27,
   "id": "b87ed7e4",
   "metadata": {},
   "outputs": [
    {
     "name": "stdout",
     "output_type": "stream",
     "text": [
      "120\n",
      "6\n",
      "14.0\n"
     ]
    }
   ],
   "source": [
    "# math\n",
    "import math\n",
    "\n",
    "print(math.factorial(5))\n",
    "print(math.floor(6.8))\n",
    "print(math.sqrt(196))"
   ]
  },
  {
   "cell_type": "code",
   "execution_count": 29,
   "id": "0e8c2342",
   "metadata": {},
   "outputs": [
    {
     "data": {
      "text/plain": [
       "['False',\n",
       " 'None',\n",
       " 'True',\n",
       " 'and',\n",
       " 'as',\n",
       " 'assert',\n",
       " 'async',\n",
       " 'await',\n",
       " 'break',\n",
       " 'class',\n",
       " 'continue',\n",
       " 'def',\n",
       " 'del',\n",
       " 'elif',\n",
       " 'else',\n",
       " 'except',\n",
       " 'finally',\n",
       " 'for',\n",
       " 'from',\n",
       " 'global',\n",
       " 'if',\n",
       " 'import',\n",
       " 'in',\n",
       " 'is',\n",
       " 'lambda',\n",
       " 'nonlocal',\n",
       " 'not',\n",
       " 'or',\n",
       " 'pass',\n",
       " 'raise',\n",
       " 'return',\n",
       " 'try',\n",
       " 'while',\n",
       " 'with',\n",
       " 'yield']"
      ]
     },
     "execution_count": 29,
     "metadata": {},
     "output_type": "execute_result"
    }
   ],
   "source": [
    "# keyword\n",
    "import keyword\n",
    "keyword.kwlist"
   ]
  },
  {
   "cell_type": "code",
   "execution_count": 34,
   "id": "c71b5f22",
   "metadata": {},
   "outputs": [
    {
     "name": "stdout",
     "output_type": "stream",
     "text": [
      "59\n"
     ]
    }
   ],
   "source": [
    "# random\n",
    "import random\n",
    "\n",
    "print(random.randint(1, 100))"
   ]
  },
  {
   "cell_type": "code",
   "execution_count": 35,
   "id": "d3db05dc",
   "metadata": {},
   "outputs": [
    {
     "name": "stdout",
     "output_type": "stream",
     "text": [
      "2025-08-19 11:45:17.177380\n"
     ]
    }
   ],
   "source": [
    "# datetime\n",
    "import datetime\n",
    "\n",
    "print(datetime.datetime.now())"
   ]
  },
  {
   "cell_type": "code",
   "execution_count": 36,
   "id": "3e43e89b",
   "metadata": {},
   "outputs": [
    {
     "name": "stdout",
     "output_type": "stream",
     "text": [
      "\n",
      "Please wait a moment while I gather a list of all available modules...\n",
      "\n"
     ]
    },
    {
     "name": "stderr",
     "output_type": "stream",
     "text": [
      "Database not initialized by migration_upgrade(). Running it again\n",
      "c:\\Users\\soham\\anaconda3\\Lib\\site-packages\\nltk\\twitter\\__init__.py:20: UserWarning: The twython library has not been installed. Some functionality from the twitter package will not be available.\n",
      "  warnings.warn(\n",
      "c:\\Users\\soham\\anaconda3\\Lib\\site-packages\\pydantic\\experimental\\__init__.py:7: PydanticExperimentalWarning:\n",
      "\n",
      "This module is experimental, its contents are subject to change and deprecation.\n",
      "\n",
      "c:\\Users\\soham\\anaconda3\\Lib\\pkgutil.py:78: UserWarning:\n",
      "\n",
      "The superqt.qtcompat module is deprecated as of v0.3.0. Please import from `qtpy` instead.\n",
      "\n"
     ]
    },
    {
     "name": "stdout",
     "output_type": "stream",
     "text": [
      "3204bda914b7f2c6f497__mypyc bz2                 lzma                shlex\n",
      "IPython             cProfile            mailbox             shutil\n",
      "OpenSSL             cachetools          mako                signal\n",
      "PIL                 calendar            markdown            sipbuild\n",
      "PyQt5               certifi             markdown_it         site\n",
      "__future__          cffi                markupsafe          six\n",
      "__hello__           chardet             marshal             skimage\n",
      "__phello__          charset_normalizer  math                sklearn\n",
      "_abc                click               matplotlib          sklearn_compat\n",
      "_aix_support        cloudpickle         matplotlib_inline   slugify\n",
      "_android_support    cmath               mccabe              smmap\n",
      "_apple_support      cmd                 mdit_py_plugins     smtplib\n",
      "_argon2_cffi_bindings code                mdurl               sniffio\n",
      "_ast                codecs              menuinst            snowballstemmer\n",
      "_asyncio            codeop              mimetypes           socket\n",
      "_bisect             collections         mistune             socketserver\n",
      "_black_version      colorama            mkl                 socks\n",
      "_blake2             colorcet            mkl_fft             sockshandler\n",
      "_brotli             colorsys            mkl_random          sortedcontainers\n",
      "_bz2                comm                mmap                soupsieve\n",
      "_cffi_backend       commctrl            mmapfile            sphinx\n",
      "_codecs             compileall          mmsystem            spyder\n",
      "_codecs_cn          concurrent          modulefinder        spyder_kernels\n",
      "_codecs_hk          conda               more_itertools      sqlalchemy\n",
      "_codecs_iso2022     conda_anaconda_telemetry mpmath              sqlite3\n",
      "_codecs_jp          conda_anaconda_tos  msgpack             sre_compile\n",
      "_codecs_kr          conda_build         msvcrt              sre_constants\n",
      "_codecs_tw          conda_content_trust multidict           sre_parse\n",
      "_collections        conda_env           multipledispatch    ssl\n",
      "_collections_abc    conda_index         multiprocessing     sspi\n",
      "_colorize           conda_libmamba_solver mypy                sspicon\n",
      "_compat_pickle      conda_pack          mypy_extensions     stack_data\n",
      "_compression        conda_package_handling mypyc               start_pythonwin\n",
      "_contextvars        conda_package_streaming nacl                stat\n",
      "_csv                conda_token         narwhals            statistics\n",
      "_ctypes             configparser        navigator_updater   statsmodels\n",
      "_ctypes_test        constantly          nb_conda_kernels    streamlit\n",
      "_datetime           contextlib          nbclient            string\n",
      "_decimal            contextvars         nbconvert           stringprep\n",
      "_distutils_hack     contourpy           nbformat            struct\n",
      "_elementtree        cookiecutter        nest_asyncio        subprocess\n",
      "_functools          copy                netbios             superqt\n",
      "_hashlib            copyreg             netrc               sympy\n",
      "_heapq              cpuinfo             networkx            symtable\n",
      "_imp                cryptography        nltk                sys\n",
      "_interpchannels     cssselect           notebook            sysconfig\n",
      "_interpqueues       csv                 notebook_shim       tables\n",
      "_interpreters       ctypes              nt                  tabnanny\n",
      "_io                 curl                ntpath              tabulate\n",
      "_ios_support        curses              ntsecuritycon       tarfile\n",
      "_json               cwp                 nturl2path          tblib\n",
      "_locale             cycler              numba               tempfile\n",
      "_lsprof             cytoolz             numbergen           tenacity\n",
      "_lzma               dask                numbers             terminado\n",
      "_markupbase         dask_expr           numexpr             test\n",
      "_md5                dataclasses         numpy               test_pycosat\n",
      "_multibytecodec     datashader          numpydoc            text_unidecode\n",
      "_multiprocessing    datetime            odbc                textdistance\n",
      "_nsis               dateutil            ollama              textwrap\n",
      "_opcode             dbm                 opcode              this\n",
      "_opcode_metadata    dde                 openpyxl            threading\n",
      "_operator           debugpy             operator            threadpoolctl\n",
      "_osx_support        decimal             optparse            three_merge\n",
      "_overlapped         decorator           ordered_set         tifffile\n",
      "_pickle             defusedxml          os                  time\n",
      "_plotly_future_     deprecated          overrides           timeit\n",
      "_plotly_utils       diff_match_patch    packaging           timer\n",
      "_py_abc             difflib             pandas              tinycss2\n",
      "_pydatetime         dill                pandocfilters       tkinter\n",
      "_pydecimal          dis                 panel               tldextract\n",
      "_pyio               distributed         param               tlz\n",
      "_pylong             distro              parsel              token\n",
      "_pyrepl             docstring_to_markdown parso               tokenize\n",
      "_pytest             doctest             partd               toml\n",
      "_queue              docutils            pathlib             tomli\n",
      "_random             dotenv              pathspec            tomlkit\n",
      "_ruamel_yaml        email               patsy               tomllib\n",
      "_sha1               encodings           pdb                 toolz\n",
      "_sha2               ensurepip           perfmon             tornado\n",
      "_sha3               enum                pexpect             tqdm\n",
      "_signal             erfa                pickle              trace\n",
      "_sitebuiltins       errno               pickleshare         traceback\n",
      "_socket             et_xmlfile          pickletools         tracemalloc\n",
      "_sqlite3            evalidate           pip                 traitlets\n",
      "_sre                executing           pkce                truststore\n",
      "_ssl                fastjsonschema      pkg_resources       tty\n",
      "_stat               faulthandler        pkginfo             turtle\n",
      "_statistics         filecmp             pkgutil             turtledemo\n",
      "_string             fileinput           platform            twisted\n",
      "_strptime           filelock            platformdirs        typeguard\n",
      "_struct             flake8              plistlib            typer\n",
      "_suggestions        flask               plotly              types\n",
      "_symtable           fnmatch             pluggy              typing\n",
      "_sysconfig          fontTools           ply                 typing_extensions\n",
      "_system_path        fractions           poplib              tzdata\n",
      "_testbuffer         frozendict          posixpath           uc_micro\n",
      "_testcapi           frozenlist          poyo                ujson\n",
      "_testclinic         fsspec              pprint              unicodedata\n",
      "_testclinic_limited ftplib              profile             unidecode\n",
      "_testconsole        functools           prometheus_client   unittest\n",
      "_testimportmultiple gc                  prompt_toolkit      urllib\n",
      "_testinternalcapi   genericpath         propcache           urllib3\n",
      "_testlimitedcapi    getopt              protego             uuid\n",
      "_testmultiphase     getpass             pstats              venv\n",
      "_testsinglephase    gettext             psutil              w3lib\n",
      "_thread             git                 pty                 warnings\n",
      "_threading_local    gitdb               ptyprocess          watchdog\n",
      "_tkinter            github              pure_eval           wave\n",
      "_tokenize           glob                py                  wcwidth\n",
      "_tracemalloc        gmpy2               py_compile          weakref\n",
      "_typing             graphlib            pyarrow             webbrowser\n",
      "_uuid               greenlet            pyasn1              webencodings\n",
      "_warnings           gzip                pyasn1_modules      websocket\n",
      "_weakref            h11                 pyclbr              werkzeug\n",
      "_weakrefset         h5py                pycodestyle         whatthepatch\n",
      "_win32sysloader     hashlib             pycosat             wheel\n",
      "_win32verstamp_pywin32ctypes heapdict            pycparser           widgetsnbextension\n",
      "_winapi             heapq               pyct                win2kras\n",
      "_winxptheme         hmac                pycurl              win32api\n",
      "_wmi                holoviews           pydantic            win32clipboard\n",
      "_yaml               html                pydantic_core       win32com\n",
      "_zoneinfo           http                pydantic_settings   win32con\n",
      "abc                 httpcore            pydispatch          win32console\n",
      "adodbapi            httpx               pydoc               win32cred\n",
      "aext_assistant      hvplot              pydoc_data          win32crypt\n",
      "aext_assistant_server hyperlink           pydocstyle          win32cryptcon\n",
      "aext_core           idlelib             pyexpat             win32ctypes\n",
      "aext_core_server    idna                pyflakes            win32event\n",
      "aext_environments_server imageio             pygments            win32evtlog\n",
      "aext_panels         imagesize           pylab               win32evtlogutil\n",
      "aext_panels_server  imaplib             pylint              win32file\n",
      "aext_project_filebrowser_server imblearn            pylint_venv         win32gui\n",
      "aext_share_notebook importlib           pyls_spyder         win32gui_struct\n",
      "aext_share_notebook_server importlib_metadata  pylsp               win32help\n",
      "aext_shared         importlib_resources pylsp_black         win32inet\n",
      "aext_toolbox        incremental         pylsp_jsonrpc       win32inetcon\n",
      "afxres              inflect             pyodbc              win32job\n",
      "aiobotocore         inflection          pyparsing           win32lz\n",
      "aiohappyeyeballs    iniconfig           pytest              win32net\n",
      "aiohttp             inspect             pythoncom           win32netcon\n",
      "aioitertools        intake              pythonjsonlogger    win32pdh\n",
      "aiosignal           intervaltree        pytoolconfig        win32pdhquery\n",
      "alabaster           io                  pytz                win32pdhutil\n",
      "alembic             ipaddress           pyuca               win32pipe\n",
      "altair              ipykernel           pyviz_comms         win32print\n",
      "anaconda_anon_usage ipykernel_launcher  pywin               win32process\n",
      "anaconda_auth       ipywidgets          pywin32_bootstrap   win32profile\n",
      "anaconda_catalogs   isapi               pywin32_testutil    win32ras\n",
      "anaconda_cli_base   isort               pywintypes          win32rcparser\n",
      "anaconda_cloud_auth isympy              pywt                win32security\n",
      "anaconda_navigator  itemadapter         qdarkstyle          win32service\n",
      "anaconda_project    itemloaders         qstylizer           win32serviceutil\n",
      "annotated_types     itertools           qtawesome           win32timezone\n",
      "antigravity         itsdangerous        qtconsole           win32trace\n",
      "anyio               jedi                qtpy                win32traceutil\n",
      "appdirs             jellyfish           queue               win32transaction\n",
      "archspec            jinja2              queuelib            win32ts\n",
      "argon2              jinja2_time         quopri              win32ui\n",
      "argparse            jmespath            random              win32uiole\n",
      "array               joblib              rasutil             win32verstamp\n",
      "arrow               json                re                  win32wnet\n",
      "ast                 json5               readchar            win_inet_pton\n",
      "astroid             jsonpatch           referencing         winerror\n",
      "astropy             jsonpointer         regcheck            winioctlcon\n",
      "astropy_iers_data   jsonschema          regex               winnt\n",
      "asttokens           jsonschema_specifications regutil             winperf\n",
      "async_lru           jupyter             repo_cli            winpty\n",
      "asyncio             jupyter_client      reprlib             winreg\n",
      "asyncssh            jupyter_console     requests            winsound\n",
      "atexit              jupyter_core        requests_file       winxpgui\n",
      "atomicwrites        jupyter_events      requests_toolbelt   winxptheme\n",
      "attr                jupyter_lsp         rfc3339_validator   wrapt\n",
      "attrs               jupyter_server      rfc3986_validator   wsgiref\n",
      "autocommand         jupyter_server_terminals rich                xarray\n",
      "automat             jupyterlab          rlcompleter         xlwings\n",
      "autopep8            jupyterlab_plotly   roman_numerals      xlwingsjs\n",
      "babel               jupyterlab_pygments rope                xml\n",
      "backports           jupyterlab_server   rpds                xmlrpc\n",
      "base64              jupyterlab_widgets  rtree               xxlimited\n",
      "bcrypt              jwt                 ruamel_yaml         xxlimited_35\n",
      "bdb                 keyring             runpy               xxsubtype\n",
      "binaryornot         keyword             s3fs                xyzservices\n",
      "binascii            kiwisolver          sched               yaml\n",
      "binstar_client      lazy_loader         scipy               yapf\n",
      "bisect              lckr_jupyterlab_variableinspector scrapy              yapf_third_party\n",
      "black               libarchive          seaborn             yapftests\n",
      "blackd              libmambapy          secrets             yarl\n",
      "bleach              lief                select              zict\n",
      "blib2to3            linecache           selectors           zipapp\n",
      "blinker             linkify_it          semver              zipfile\n",
      "bokeh               llvmlite            send2trash          zipimport\n",
      "boltons             lmdb                sentry_sdk          zipp\n",
      "botocore            locale              service_identity    zlib\n",
      "bottleneck          locket              servicemanager      zmq\n",
      "brotli              logging             setuptools          zoneinfo\n",
      "bs4                 lxml                shellingham         zope\n",
      "builtins            lz4                 shelve              zstandard\n",
      "\n",
      "Enter any module name to get more help.  Or, type \"modules spam\" to search\n",
      "for modules whose name or summary contain the string \"spam\".\n",
      "\n"
     ]
    }
   ],
   "source": [
    "help('modules')"
   ]
  },
  {
   "cell_type": "markdown",
   "id": "aafd6e6b",
   "metadata": {},
   "source": [
    "## Loops\n",
    "\n",
    "- while loop\n",
    "- for loop"
   ]
  },
  {
   "cell_type": "code",
   "execution_count": null,
   "id": "7aba7186",
   "metadata": {},
   "outputs": [
    {
     "name": "stdout",
     "output_type": "stream",
     "text": [
      "Number = 7\n",
      "7 * 1 = 7\n",
      "7 * 2 = 14\n",
      "7 * 3 = 21\n",
      "7 * 4 = 28\n",
      "7 * 5 = 35\n",
      "7 * 6 = 42\n",
      "7 * 7 = 49\n",
      "7 * 8 = 56\n",
      "7 * 9 = 63\n",
      "7 * 10 = 70\n"
     ]
    }
   ],
   "source": [
    "# while loop example\n",
    "\n",
    "# print a table\n",
    "num = int(input(\"Enter a number:\"))\n",
    "print(\"Number =\", num)\n",
    "\n",
    "i = 1 # initialisation\n",
    "while i <= 10: # condition loop check\n",
    "    print(num, \"*\", i, \"=\", num * i)\n",
    "    i += 1 # updation"
   ]
  },
  {
   "cell_type": "code",
   "execution_count": 39,
   "id": "ac1054e3",
   "metadata": {},
   "outputs": [
    {
     "name": "stdout",
     "output_type": "stream",
     "text": [
      "1\n",
      "2\n",
      "3\n",
      "4\n",
      "5\n",
      "6\n",
      "7\n",
      "8\n",
      "9\n",
      "10\n"
     ]
    }
   ],
   "source": [
    "# for loop demo\n",
    "\n",
    "for i in range(1, 11):\n",
    "    print(i)"
   ]
  },
  {
   "cell_type": "code",
   "execution_count": 40,
   "id": "5001b307",
   "metadata": {},
   "outputs": [
    {
     "name": "stdout",
     "output_type": "stream",
     "text": [
      "1\n",
      "3\n",
      "5\n",
      "7\n",
      "9\n"
     ]
    }
   ],
   "source": [
    "for i in range(1, 11, 2):\n",
    "    print(i)"
   ]
  },
  {
   "cell_type": "code",
   "execution_count": 41,
   "id": "6197c8a4",
   "metadata": {},
   "outputs": [
    {
     "name": "stdout",
     "output_type": "stream",
     "text": [
      "10\n",
      "9\n",
      "8\n",
      "7\n",
      "6\n",
      "5\n",
      "4\n",
      "3\n",
      "2\n",
      "1\n"
     ]
    }
   ],
   "source": [
    "for i in range(10, 0, -1):\n",
    "    print(i)"
   ]
  },
  {
   "cell_type": "code",
   "execution_count": 42,
   "id": "9f480972",
   "metadata": {},
   "outputs": [
    {
     "name": "stdout",
     "output_type": "stream",
     "text": [
      "D\n",
      "e\n",
      "l\n",
      "h\n",
      "i\n"
     ]
    }
   ],
   "source": [
    "for i in 'Delhi':\n",
    "    print(i)"
   ]
  },
  {
   "cell_type": "code",
   "execution_count": 43,
   "id": "a1c5f00c",
   "metadata": {},
   "outputs": [
    {
     "name": "stdout",
     "output_type": "stream",
     "text": [
      "1\n",
      "5\n",
      "1\n",
      "23\n",
      "234\n"
     ]
    }
   ],
   "source": [
    "for i in [1, 5, 1, 23, 234]:\n",
    "    print(i)"
   ]
  },
  {
   "cell_type": "code",
   "execution_count": null,
   "id": "f98ca28a",
   "metadata": {},
   "outputs": [],
   "source": []
  }
 ],
 "metadata": {
  "kernelspec": {
   "display_name": "base",
   "language": "python",
   "name": "python3"
  },
  "language_info": {
   "codemirror_mode": {
    "name": "ipython",
    "version": 3
   },
   "file_extension": ".py",
   "mimetype": "text/x-python",
   "name": "python",
   "nbconvert_exporter": "python",
   "pygments_lexer": "ipython3",
   "version": "3.13.5"
  }
 },
 "nbformat": 4,
 "nbformat_minor": 5
}
