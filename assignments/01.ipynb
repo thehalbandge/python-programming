{
  "cells": [
    {
      "cell_type": "markdown",
      "metadata": {
        "id": "A05OG15VqOPF"
      },
      "source": [
        "# Task : Session 1\n",
        "Solve these questions own your own and try to test yourself what you have learned in the session.\n",
        "\n",
        "Happy Learning!"
      ]
    },
    {
      "cell_type": "markdown",
      "metadata": {
        "id": "2doIXf8bqe9_"
      },
      "source": [
        "### Q1 :- Print the given strings as per stated format.\n",
        "\n",
        "**Given strings**:\n",
        "```\n",
        "\"Data\" \"Science\" \"Mentorship\" \"Program\"\n",
        "\"By\" \"CampusX\"\n",
        "```\n",
        "**Output**:\n",
        "```\n",
        "Data-Science-Mentorship-Program-started-By-CampusX\n",
        "```\n",
        "\n",
        "Concept- [Seperator and End]"
      ]
    },
    {
      "cell_type": "code",
      "execution_count": 2,
      "metadata": {
        "id": "-em6d3KErDtp"
      },
      "outputs": [
        {
          "name": "stdout",
          "output_type": "stream",
          "text": [
            "Data-Science-Mentorship-Program-started-by-CampusX\n"
          ]
        }
      ],
      "source": [
        "# Write your code here\n",
        "print(\"Data\", \"Science\", \"Mentorship\", \"Program\", \"started\", \"by\", \"CampusX\", sep='-')"
      ]
    },
    {
      "cell_type": "markdown",
      "metadata": {
        "id": "1KUpN7ZTrC3_"
      },
      "source": [
        "### Q2:- Write a program that will convert celsius value to fahrenheit."
      ]
    },
    {
      "cell_type": "code",
      "execution_count": 3,
      "metadata": {
        "id": "yxKYhYQiqWfj"
      },
      "outputs": [
        {
          "name": "stdout",
          "output_type": "stream",
          "text": [
            "Celcius Temperature = 32.0\n",
            "Fahrenheit Tempature = 89.6\n"
          ]
        }
      ],
      "source": [
        "# Write your code here\n",
        "celcius = float(input(\"Enter the temperature in Celcius: \"))\n",
        "print(f\"Celcius Temperature = {celcius}\")\n",
        "fahrenheit = celcius * (9 / 5) + 32\n",
        "print(f\"Fahrenheit Tempature = {fahrenheit}\")"
      ]
    },
    {
      "cell_type": "markdown",
      "metadata": {
        "id": "RLrOBBJurLB2"
      },
      "source": [
        "### Q3:- Take 2 numbers as input from the user.Write a program to swap the numbers without using any special python syntax."
      ]
    },
    {
      "cell_type": "code",
      "execution_count": 4,
      "metadata": {
        "id": "yPn7if0TrJ4F"
      },
      "outputs": [
        {
          "name": "stdout",
          "output_type": "stream",
          "text": [
            "Before Swapping\n",
            "num1: 5\n",
            "num2: 10\n",
            "\n",
            "After Swapping\n",
            "num1: 10\n",
            "num2: 5\n"
          ]
        }
      ],
      "source": [
        "# Write your code here\n",
        "num1 = 5\n",
        "num2 = 10\n",
        "print(\"Before Swapping\")\n",
        "print(\"num1:\", num1)\n",
        "print(\"num2:\", num2)\n",
        "num1, num2 = num2, num1\n",
        "print(\"\\nAfter Swapping\")\n",
        "print(\"num1:\", num1)\n",
        "print(\"num2:\", num2)"
      ]
    },
    {
      "cell_type": "markdown",
      "metadata": {
        "id": "waLCP1bjr7ML"
      },
      "source": [
        "### Q4:- Write a program to find the euclidean distance between two coordinates.Take both the coordinates from the user as input."
      ]
    },
    {
      "cell_type": "code",
      "execution_count": 7,
      "metadata": {
        "id": "Pl1Sv-xnrxnH"
      },
      "outputs": [
        {
          "name": "stdout",
          "output_type": "stream",
          "text": [
            "(x1, x2) = (45, 10)\n",
            "(y1, y2) = (35, 20)\n",
            "Euclidean distance = 38.07886552931954\n"
          ]
        }
      ],
      "source": [
        "# Write your code here\n",
        "import math\n",
        "\n",
        "x1 = int(input(\"enter the x1 coordinate\"))\n",
        "x2 = int(input(\"enter the x2 coordinate\"))\n",
        "y1 = int(input(\"enter the y1 coordinate\"))\n",
        "y2 = int(input(\"enter the y2 coordinate\"))\n",
        "\n",
        "print(f'(x1, x2) = ({x1}, {x2})')\n",
        "print(f'(y1, y2) = ({y1}, {y2})')\n",
        "\n",
        "euclidean_distance = math.sqrt(((x2 - x1) ** 2) + ((y2 - y1) ** 2))\n",
        "print(f\"Euclidean distance = {euclidean_distance}\")"
      ]
    },
    {
      "cell_type": "markdown",
      "metadata": {
        "id": "VLrhg-FRsHjR"
      },
      "source": [
        "### Q5:- Write a program to find the simple interest when the value of principle,rate of interest and time period is provided by the user.\n"
      ]
    },
    {
      "cell_type": "code",
      "execution_count": 8,
      "metadata": {
        "id": "s40DlReZsTmY"
      },
      "outputs": [
        {
          "name": "stdout",
          "output_type": "stream",
          "text": [
            "Principle: 10000\n",
            "Rate of interest: 9.1\n",
            "Time period: 2.0\n",
            "Simple interest: 1820.0\n"
          ]
        }
      ],
      "source": [
        "# Write your code here\n",
        "principle = int(input(\"Enter the principle amount:\"))\n",
        "roi = float(input(\"Enter the rate of interest\"))\n",
        "time = float(input(\"Enter the time period\"))\n",
        "\n",
        "print(f\"Principle: {principle}\")\n",
        "print(f\"Rate of interest: {roi}\")\n",
        "print(f\"Time period: {time}\")\n",
        "\n",
        "si = (principle * roi * time) / 100\n",
        "\n",
        "print(f\"Simple interest: {si}\")"
      ]
    },
    {
      "cell_type": "markdown",
      "metadata": {
        "id": "LMy0BTUktYKa"
      },
      "source": [
        "### Q6:- Write a program that will tell the number of dogs and chicken are there when the user will provide the value of total heads and legs.\n",
        "\n",
        "For example:\n",
        "Input:\n",
        "heads -> 4\n",
        "legs -> 12\n",
        "<br>\n",
        "Output:\n",
        "dogs -> 2\n",
        "chicken -> 2\n",
        "\n",
        "\n",
        "\n"
      ]
    },
    {
      "cell_type": "code",
      "execution_count": 10,
      "metadata": {
        "id": "XSBvJoA4tXaG"
      },
      "outputs": [
        {
          "name": "stdout",
          "output_type": "stream",
          "text": [
            "dogs -> 2\n",
            "chicken -> 2\n"
          ]
        }
      ],
      "source": [
        "# Write your code here\n",
        "\n",
        "# c = number of chickens\n",
        "# d = number of dogs\n",
        "\n",
        "# From equations:\n",
        "# c + d = heads\n",
        "# 2c + 4d = legs\n",
        "\n",
        "heads = 4\n",
        "legs = 12\n",
        "\n",
        "d = (legs - 2 * heads) // 2\n",
        "c = heads - d\n",
        "\n",
        "print(\"dogs ->\", d)\n",
        "print(\"chicken ->\", c)\n"
      ]
    },
    {
      "cell_type": "markdown",
      "metadata": {
        "id": "gJ7C5kZYt4BP"
      },
      "source": [
        "### Q7:- Write a program to find the sum of squares of first n natural numbers where n will be provided by the user."
      ]
    },
    {
      "cell_type": "code",
      "execution_count": 23,
      "metadata": {
        "id": "_tHsmEHzt2nX"
      },
      "outputs": [
        {
          "name": "stdout",
          "output_type": "stream",
          "text": [
            "55\n"
          ]
        }
      ],
      "source": [
        "# Write your code here\n",
        "\n",
        "# solution 1\n",
        "# n = 5\n",
        "# sum = 0\n",
        "# for i in range(1, n+1):\n",
        "#     sum += (i ** 2)\n",
        "\n",
        "# print(sum)\n",
        "\n",
        "# solution 2\n",
        "n = 5\n",
        "print((n * (n + 1) * (2 * n + 1)) // 6)\n"
      ]
    },
    {
      "cell_type": "markdown",
      "metadata": {
        "id": "FHrMM7g-yG1h"
      },
      "source": [
        "### Q8:- Given the first 2 terms of an Arithmetic Series.Find the Nth term of the series. Assume all inputs are provided by the user."
      ]
    },
    {
      "cell_type": "code",
      "execution_count": null,
      "metadata": {
        "id": "go4_kmZmyVSx"
      },
      "outputs": [],
      "source": [
        "# Write your code here"
      ]
    },
    {
      "cell_type": "markdown",
      "metadata": {
        "id": "QgyRX_es1oum"
      },
      "source": [
        "### Q9:- Given 2 fractions, find the sum of those 2 fractions.Take the numerator and denominator values of the fractions from the user."
      ]
    },
    {
      "cell_type": "code",
      "execution_count": null,
      "metadata": {
        "id": "X05xqFS1yW16"
      },
      "outputs": [],
      "source": [
        "# Write your code here"
      ]
    },
    {
      "cell_type": "markdown",
      "metadata": {
        "id": "eaql38ln13u7"
      },
      "source": [
        "### Q10:- Given the height, width and breadth of a milk tank, you have to find out how many glasses of milk can be obtained? Assume all the inputs are provided by the user.\n",
        "\n",
        "\n",
        "\n",
        "Input:<br>\n",
        "Dimensions of the milk tank<br>\n",
        "H = 20cm, L = 20cm, B = 20cm\n",
        "<br><br>\n",
        "Dimensions of the glass<br>\n",
        "h = 3cm, r = 1cm"
      ]
    },
    {
      "cell_type": "code",
      "execution_count": null,
      "metadata": {
        "id": "FePZqno74eWv"
      },
      "outputs": [],
      "source": [
        "# Write your code here"
      ]
    }
  ],
  "metadata": {
    "colab": {
      "provenance": []
    },
    "kernelspec": {
      "display_name": "base",
      "language": "python",
      "name": "python3"
    },
    "language_info": {
      "codemirror_mode": {
        "name": "ipython",
        "version": 3
      },
      "file_extension": ".py",
      "mimetype": "text/x-python",
      "name": "python",
      "nbconvert_exporter": "python",
      "pygments_lexer": "ipython3",
      "version": "3.13.5"
    }
  },
  "nbformat": 4,
  "nbformat_minor": 0
}
